{
 "cells": [
  {
   "cell_type": "code",
   "execution_count": 1,
   "id": "b51d8aec-7570-4479-9b87-a97ae6569b5b",
   "metadata": {},
   "outputs": [],
   "source": [
    "import pyspark\n",
    "from pyspark.sql import SparkSession\n",
    "\n",
    "spark = SparkSession.builder \\\n",
    "    .master(\"local[*]\") \\\n",
    "    .appName('test') \\\n",
    "    .getOrCreate()"
   ]
  },
  {
   "cell_type": "code",
   "execution_count": 6,
   "id": "e8b06968-44c9-41b2-9889-0249735a565a",
   "metadata": {},
   "outputs": [],
   "source": [
    "df_green = spark.read.parquet('data/pq/green/*/*')"
   ]
  },
  {
   "cell_type": "code",
   "execution_count": 7,
   "id": "2049c39e-84ff-410a-8007-3b1d8b1f1bed",
   "metadata": {},
   "outputs": [],
   "source": [
    "df_green = df_green \\\n",
    "    .withColumnRenamed('lpep_pickup_datetime', 'pickup_datetime') \\\n",
    "    .withColumnRenamed('lpep_dropoff_datetime', 'dropoff_datetime')"
   ]
  },
  {
   "cell_type": "code",
   "execution_count": 19,
   "id": "c4e2475c-e93d-479c-8934-b46c93cba36f",
   "metadata": {},
   "outputs": [],
   "source": [
    "df_green.createOrReplaceTempView('green')"
   ]
  },
  {
   "cell_type": "code",
   "execution_count": 20,
   "id": "f7abe3f8-0089-4a41-b362-a1a722952cf2",
   "metadata": {},
   "outputs": [],
   "source": [
    "df_green_revenue = spark.sql(\"\"\"\n",
    "SELECT \n",
    "    date_trunc('hour', pickup_datetime) AS hour, \n",
    "    PULocationID AS zone,\n",
    "    \n",
    "    SUM(total_amount) AS amount,\n",
    "    COUNT(1) as number_records\n",
    "FROM\n",
    "    green\n",
    "WHERE\n",
    "    pickup_datetime >= '2020-01-01 00:00:00'\n",
    "GROUP BY\n",
    "    1, 2\n",
    "\"\"\")"
   ]
  },
  {
   "cell_type": "code",
   "execution_count": 21,
   "id": "31c27d08-2fed-42ca-b9e8-d663b513de37",
   "metadata": {},
   "outputs": [
    {
     "name": "stdout",
     "output_type": "stream",
     "text": [
      "+-------------------+----+------------------+--------------+\n",
      "|               hour|zone|            amount|number_records|\n",
      "+-------------------+----+------------------+--------------+\n",
      "|2062-08-15 00:00:00|   7|               3.6|             1|\n",
      "|2020-01-28 19:00:00| 134|193.60999999999999|            17|\n",
      "|2020-01-22 19:00:00|  65|            657.03|            41|\n",
      "|2020-01-27 08:00:00|  17|             85.56|             4|\n",
      "|2020-01-02 09:00:00|  66|             229.4|            12|\n",
      "|2020-01-02 12:00:00|  89|310.28000000000003|            14|\n",
      "|2020-01-07 12:00:00|  66|             179.5|             9|\n",
      "|2020-01-03 08:00:00| 223|             165.9|             9|\n",
      "|2020-01-17 10:00:00|  41| 638.2700000000002|            49|\n",
      "|2020-01-02 11:00:00|  26|198.60000000000002|             7|\n",
      "|2020-01-12 20:00:00| 247|36.900000000000006|             3|\n",
      "|2020-01-12 15:00:00|  10|             75.92|             1|\n",
      "|2020-01-24 04:00:00| 129|            148.89|            13|\n",
      "|2020-01-04 20:00:00|  25|            369.57|            23|\n",
      "|2020-01-22 10:00:00|  74|1179.0599999999997|            83|\n",
      "|2020-01-13 18:00:00|  92|            207.02|            11|\n",
      "|2020-01-19 11:00:00| 218|181.16000000000003|             5|\n",
      "|2020-01-26 12:00:00|  35|257.03000000000003|             8|\n",
      "|2020-01-30 06:00:00|  75|            282.63|            19|\n",
      "|2020-01-04 22:00:00|  83|298.15999999999997|            15|\n",
      "+-------------------+----+------------------+--------------+\n",
      "only showing top 20 rows\n",
      "\n"
     ]
    }
   ],
   "source": [
    "df_green_revenue.show()"
   ]
  },
  {
   "cell_type": "code",
   "execution_count": 29,
   "id": "44e56f5e-55c2-410d-b374-999ca28248be",
   "metadata": {},
   "outputs": [],
   "source": [
    "df_green_revenue \\\n",
    "    .repartition(20) \\\n",
    "    .write.parquet('data/report/revenue/green', mode='overwrite')"
   ]
  },
  {
   "cell_type": "code",
   "execution_count": 23,
   "id": "54f838f6-a92d-4b16-84ca-9419b64748ae",
   "metadata": {},
   "outputs": [],
   "source": [
    "df_yellow = spark.read.parquet('data/pq/yellow/*/*')\n",
    "\n",
    "df_yellow = df_yellow \\\n",
    "    .withColumnRenamed('tpep_pickup_datetime', 'pickup_datetime') \\\n",
    "    .withColumnRenamed('tpep_dropoff_datetime', 'dropoff_datetime')"
   ]
  },
  {
   "cell_type": "code",
   "execution_count": 24,
   "id": "e05d4d8b-dff3-4648-b684-6b0b26abea87",
   "metadata": {},
   "outputs": [],
   "source": [
    "df_yellow.createOrReplaceTempView('yellow')"
   ]
  },
  {
   "cell_type": "code",
   "execution_count": 25,
   "id": "e7b51742-f673-456e-9f58-eb36d6530f07",
   "metadata": {},
   "outputs": [],
   "source": [
    "df_yellow_revenue = spark.sql(\"\"\"\n",
    "SELECT \n",
    "    date_trunc('hour', pickup_datetime) AS hour, \n",
    "    PULocationID AS zone,\n",
    "    \n",
    "    SUM(total_amount) AS amount,\n",
    "    COUNT(1) as number_records\n",
    "FROM\n",
    "    yellow\n",
    "WHERE\n",
    "    pickup_datetime >= '2020-01-01 00:00:00'\n",
    "GROUP BY\n",
    "    1, 2\n",
    "\"\"\")"
   ]
  },
  {
   "cell_type": "code",
   "execution_count": 26,
   "id": "c1831d2d-c139-48f4-81e2-0ee691ffaa50",
   "metadata": {},
   "outputs": [
    {
     "name": "stdout",
     "output_type": "stream",
     "text": [
      "+-------------------+----+------------------+--------------+\n",
      "|               hour|zone|            amount|number_records|\n",
      "+-------------------+----+------------------+--------------+\n",
      "|2020-01-09 01:00:00| 188|122.71000000000001|             3|\n",
      "|2038-02-17 20:00:00| 263|               7.8|             1|\n",
      "|2020-03-08 15:00:00| 158|2283.1299999999997|           126|\n",
      "|2020-05-12 23:00:00| 170|             50.86|             3|\n",
      "|2020-04-11 16:00:00|  43|            148.82|            10|\n",
      "|2020-01-17 16:00:00| 132| 29275.85999999998|           468|\n",
      "|2020-04-22 12:00:00| 161|175.55999999999997|            10|\n",
      "|2020-04-21 15:00:00| 233|181.45000000000002|            12|\n",
      "|2020-01-05 16:00:00| 162|           4822.54|           277|\n",
      "|2029-11-19 10:00:00| 264|               3.8|             1|\n",
      "|2020-01-10 06:00:00| 132| 9030.950000000008|           195|\n",
      "|2020-01-04 17:00:00| 161| 7491.190000000013|           471|\n",
      "|2020-01-02 13:00:00| 107| 2215.039999999998|           143|\n",
      "|2020-02-20 06:00:00|  48| 3535.309999999995|           275|\n",
      "|2020-01-12 16:00:00| 230|  7319.29000000001|           373|\n",
      "|2020-01-31 21:00:00| 186| 10813.87000000003|           588|\n",
      "|2020-03-12 15:00:00| 162| 7433.170000000017|           394|\n",
      "|2020-01-10 13:00:00| 164|           4457.47|           263|\n",
      "|2020-01-10 06:00:00| 144|            149.51|             9|\n",
      "|2020-01-29 03:00:00|  13|            248.89|             6|\n",
      "+-------------------+----+------------------+--------------+\n",
      "only showing top 20 rows\n",
      "\n"
     ]
    }
   ],
   "source": [
    "df_yellow_revenue.show()"
   ]
  },
  {
   "cell_type": "code",
   "execution_count": 31,
   "id": "5767eb10-2fbf-4e58-be93-bca67700a6a6",
   "metadata": {},
   "outputs": [],
   "source": [
    "df_yellow_revenue \\\n",
    "    .repartition(20) \\\n",
    "    .write.parquet('data/report/revenue/yellow', mode='overwrite')"
   ]
  },
  {
   "cell_type": "code",
   "execution_count": 38,
   "id": "02456f33-dc02-45de-bb76-820fcdd8c15f",
   "metadata": {},
   "outputs": [],
   "source": [
    "df_green_revenue_tmp = df_green_revenue \\\n",
    "    .withColumnRenamed('amount', 'green_amount') \\\n",
    "    .withColumnRenamed('number_records', 'green_number_records')\n",
    "\n",
    "df_yellow_revenue_tmp = df_yellow_revenue \\\n",
    "    .withColumnRenamed('amount', 'yellow_amount') \\\n",
    "    .withColumnRenamed('number_records', 'yellow_number_records')"
   ]
  },
  {
   "cell_type": "code",
   "execution_count": 39,
   "id": "20501cd0-d1e1-4a5a-ac30-a352fa8c992d",
   "metadata": {},
   "outputs": [],
   "source": [
    "df_join = df_green_revenue_tmp.join(df_yellow_revenue_tmp, on=['hour', 'zone'], how='outer')"
   ]
  },
  {
   "cell_type": "code",
   "execution_count": 40,
   "id": "8bac97b1-3d56-470b-a1ef-2ba6ac92b76c",
   "metadata": {},
   "outputs": [
    {
     "name": "stdout",
     "output_type": "stream",
     "text": [
      "+-------------------+----+------------------+--------------------+-----------------+---------------------+\n",
      "|               hour|zone|      green_amount|green_number_records|    yellow_amount|yellow_number_records|\n",
      "+-------------------+----+------------------+--------------------+-----------------+---------------------+\n",
      "|2020-01-01 00:00:00|   3|              NULL|                NULL|             25.0|                    1|\n",
      "|2020-01-01 00:00:00|  40|168.98000000000002|                   8|            89.97|                    5|\n",
      "|2020-01-01 00:00:00|  45|              NULL|                NULL|732.4800000000002|                   42|\n",
      "|2020-01-01 00:00:00|  47|              13.3|                   1|              8.3|                    1|\n",
      "|2020-01-01 00:00:00|  51|              17.8|                   2|             31.0|                    1|\n",
      "|2020-01-01 00:00:00|  68|              NULL|                NULL|7825.070000000012|                  396|\n",
      "|2020-01-01 00:00:00|  73|              NULL|                NULL|             17.3|                    1|\n",
      "|2020-01-01 00:00:00|  77| 75.99000000000001|                   2|           134.24|                    3|\n",
      "|2020-01-01 00:00:00|  80|            394.98|                  14|            371.4|                   20|\n",
      "|2020-01-01 00:00:00|  83| 94.10000000000001|                   7|              9.8|                    1|\n",
      "|2020-01-01 00:00:00|  95|202.20000000000002|                  15|              6.3|                    1|\n",
      "|2020-01-01 00:00:00| 133|              NULL|                NULL|             27.3|                    1|\n",
      "|2020-01-01 00:00:00| 135|              NULL|                NULL|             18.3|                    1|\n",
      "|2020-01-01 00:00:00| 141|              NULL|                NULL|4306.829999999996|                  283|\n",
      "|2020-01-01 00:00:00| 164|              NULL|                NULL|5448.930000000004|                  292|\n",
      "|2020-01-01 00:00:00| 196|             37.91|                   2|             35.6|                    2|\n",
      "|2020-01-01 00:00:00| 239|              NULL|                NULL| 7890.14000000001|                  464|\n",
      "|2020-01-01 00:00:00| 259|            131.24|                   7|             NULL|                 NULL|\n",
      "|2020-01-01 00:00:00| 260|296.25000000000006|                  21|74.14000000000001|                    8|\n",
      "|2020-01-01 00:00:00| 261|              NULL|                NULL|          1013.94|                   51|\n",
      "+-------------------+----+------------------+--------------------+-----------------+---------------------+\n",
      "only showing top 20 rows\n",
      "\n"
     ]
    }
   ],
   "source": [
    "df_join.show()"
   ]
  },
  {
   "cell_type": "code",
   "execution_count": 41,
   "id": "f46a3045-fc32-42e0-aee1-b09bb3a65378",
   "metadata": {},
   "outputs": [],
   "source": [
    "df_join.write.parquet('data/report/revenue/total')"
   ]
  },
  {
   "cell_type": "code",
   "execution_count": null,
   "id": "32d9b6a8-180b-447a-807c-80bb68583b84",
   "metadata": {},
   "outputs": [],
   "source": []
  }
 ],
 "metadata": {
  "kernelspec": {
   "display_name": "Python 3 (ipykernel)",
   "language": "python",
   "name": "python3"
  },
  "language_info": {
   "codemirror_mode": {
    "name": "ipython",
    "version": 3
   },
   "file_extension": ".py",
   "mimetype": "text/x-python",
   "name": "python",
   "nbconvert_exporter": "python",
   "pygments_lexer": "ipython3",
   "version": "3.11.6"
  }
 },
 "nbformat": 4,
 "nbformat_minor": 5
}
